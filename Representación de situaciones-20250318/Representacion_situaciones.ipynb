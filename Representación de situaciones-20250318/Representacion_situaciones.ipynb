{
 "cells": [
  {
   "cell_type": "markdown",
   "metadata": {},
   "source": [
    "<table>\n",
    "    <tr>\n",
    "        <td><img src=\"./img/Macc.png\" width=\"auto\"/></td>\n",
    "        <td>\n",
    "            <table><tr>\n",
    "            <h1 style=\"color:blue;text-align:center\">Lógica para Ciencias de la Computación</h1></td>\n",
    "            </tr></table>   \n",
    "        <td>&nbsp;</td>\n",
    "        <td>\n",
    "            <table><tr>\n",
    "            <tp><p style=\"font-size:150%;text-align:center\">Taller</p></tp>\n",
    "            <tp><p style=\"font-size:150%;text-align:center\">Representación de situaciones</p></tp>\n",
    "            </tr></table>\n",
    "        </td>\n",
    "    </tr>\n",
    "</table>\n",
    "\n",
    "---"
   ]
  },
  {
   "cell_type": "markdown",
   "metadata": {},
   "source": [
    "# Objetivo <a class=\"anchor\" id=\"inicio\"></a>\n",
    "\n",
    "En clase hemos visto cómo representar situaciones, sus restricciones, y el objetivo que se busca resolver, por medio de fórmulas lógicas. El objetivo de este taller es explorar cómo implementar en Python la representación de situaciones."
   ]
  },
  {
   "cell_type": "markdown",
   "metadata": {},
   "source": [
    "# Secciones\n",
    "\n",
    "1. [Problema de ejemplo.](#prob)\n",
    "2. [Descriptores.](#des)\n",
    "3. [Implementación de restricciones.](#imp)"
   ]
  },
  {
   "cell_type": "markdown",
   "metadata": {},
   "source": [
    "# Problema de ejemplo <a class=\"anchor\" id=\"prob\"></a>\n",
    "\n",
    "([Volver al inicio](#inicio))\n",
    "\n",
    "Trabajaremos sobre el siguiente problema. Buscamos llenar todas las casillas en una tabla 2x2 con un número de 0 a 3, sin repetir. Por ejemplo:\n",
    "\n",
    "![ejemplo](img/tabla.png)\n",
    "\n",
    "Tenemos tres restricciones que debemos implementar para resolver el problema:\n",
    "\n",
    "1. Un número sólo está en una casilla.\n",
    "2. No hay más de un número en una casilla.\n",
    "3. Debe haber por lo menos un número en una casilla.\n"
   ]
  },
  {
   "cell_type": "markdown",
   "metadata": {},
   "source": [
    "# Descriptores <a class=\"anchor\" id=\"des\"></a>\n",
    "\n",
    "([Volver al inicio](#inicio))\n",
    "\n",
    "Debemos primero representar las letras proposicionales, las cuales cruzan la información de qué número está en qué casilla:\n",
    "\n",
    "$OenCasilla(x,y,n)$ es verdadera sii el número $n$ está en la casilla $(x,y)$\n",
    "\n",
    "Para hacer la implementación en python, sugerimos usar la clase `Descriptor`, que se encuentra en la librería `Logica`.  Básicamente, lo que hace la codificación es representar un átomo como un solo caracter (es decir, una cadena de longitud 1).\n",
    "\n",
    "Importamos la clase a partir de la librería:"
   ]
  },
  {
   "cell_type": "code",
   "execution_count": 1,
   "metadata": {},
   "outputs": [],
   "source": [
    "from Logica import Descriptor"
   ]
  },
  {
   "cell_type": "markdown",
   "metadata": {},
   "source": [
    "Ahora creamos un descriptor de tres argumentos, dos para la casilla $(x,y)$ y uno para los números:"
   ]
  },
  {
   "cell_type": "code",
   "execution_count": 6,
   "metadata": {},
   "outputs": [],
   "source": [
    "Nx = 2\n",
    "Ny = 2\n",
    "Nn = Nx * Ny\n",
    "X = list(range(Nx))\n",
    "Y = list(range(Ny))\n",
    "numeros = list(range(Nn))\n",
    "OenCasilla = Descriptor([Nx, Ny, Nn])"
   ]
  },
  {
   "cell_type": "markdown",
   "metadata": {},
   "source": [
    "Métodos importantes del `Descriptor`:\n",
    "\n",
    "* ravel(`lista_valores`): Codifica el cruce de información correspondiente a los valores en `lista_valores` mediante un caracter.\n",
    "* unravel(`caracter`): Decodifica `caracter` en una lista de valores. Esta lista depende del número de argumentos con que se haya inicializado el objeto descriptor. \n",
    "\n",
    "### Codificando en un solo caracter\n",
    "\n",
    "Mediante el método P() podemos crear las codificaciones. A continuación presentaremos cada uno de los caracteres que codifican los cruces de información de que un número $n$ (con $n\\in\\{0, 1, 2, 3\\}$) se encuentra en una casilla $(x,y)$ (donde $x,y\\in\\{0, 1\\}$):"
   ]
  },
  {
   "cell_type": "code",
   "execution_count": 3,
   "metadata": {},
   "outputs": [
    {
     "name": "stdout",
     "output_type": "stream",
     "text": [
      "Cantidad de átomos OenCasilla: 16\n",
      "Caracteres correspondientes a los átomos OenCasilla:\n",
      "\n",
      "Que el número 0 está en la casilla (0,0) es el átomo Ā\n",
      "Que el número 0 está en la casilla (0,1) es el átomo Ă\n",
      "Que el número 0 está en la casilla (1,0) es el átomo ā\n",
      "Que el número 0 está en la casilla (1,1) es el átomo ă\n",
      "\n",
      "Que el número 1 está en la casilla (0,0) es el átomo Ą\n",
      "Que el número 1 está en la casilla (0,1) es el átomo Ć\n",
      "Que el número 1 está en la casilla (1,0) es el átomo ą\n",
      "Que el número 1 está en la casilla (1,1) es el átomo ć\n",
      "\n",
      "Que el número 2 está en la casilla (0,0) es el átomo Ĉ\n",
      "Que el número 2 está en la casilla (0,1) es el átomo Ċ\n",
      "Que el número 2 está en la casilla (1,0) es el átomo ĉ\n",
      "Que el número 2 está en la casilla (1,1) es el átomo ċ\n",
      "\n",
      "Que el número 3 está en la casilla (0,0) es el átomo Č\n",
      "Que el número 3 está en la casilla (0,1) es el átomo Ď\n",
      "Que el número 3 está en la casilla (1,0) es el átomo č\n",
      "Que el número 3 está en la casilla (1,1) es el átomo ď\n",
      "\n"
     ]
    }
   ],
   "source": [
    "print(\"Cantidad de átomos OenCasilla:\", OenCasilla.rango[1] - OenCasilla.rango[0])\n",
    "print(\"Caracteres correspondientes a los átomos OenCasilla:\\n\")\n",
    "for n in range(Nn):\n",
    "    for x in range(Nx):\n",
    "        for y in range(Ny):\n",
    "            atomo = OenCasilla.ravel([x,y,n])\n",
    "            print(f\"Que el número {numeros[n]} está en la casilla ({X[x]},{Y[y]}) es el átomo {atomo}\")\n",
    "    print(\"\")"
   ]
  },
  {
   "cell_type": "markdown",
   "metadata": {},
   "source": [
    "### Decodificando el caracter\n",
    "\n",
    "Ahora podemos incluir un método para visualizar más fácilmente la información que porta cada letra proposicional. Esto es, en nuestro ejemplo en cuestión, nuestro objeto `OenCasilla` representa el cruce de información de que un número se encuentra en un lugar. Entonces, al decodificar una letra proposicional, queremos que nos presente claramente esta información y no un caracter inpronunciable (aunque es precisamente este caracter el que usará la máquina). \n",
    "\n",
    "Para ello podemos usar el siguiente método `escribir`: "
   ]
  },
  {
   "cell_type": "code",
   "execution_count": 9,
   "metadata": {},
   "outputs": [],
   "source": [
    "def escribir(self, literal):\n",
    "    if '-' in literal:\n",
    "        atomo = literal[1:]\n",
    "        neg = ' no'\n",
    "    else:\n",
    "        atomo = literal\n",
    "        neg = ''\n",
    "    x, y, n  = self.unravel(atomo)\n",
    "    return f\"El número {numeros[n]}{neg} está en la casilla ({X[x]},{Y[y]})\"\n",
    "    \n",
    "from types import MethodType\n",
    "\n",
    "OenCasilla.escribir = MethodType(escribir, OenCasilla)"
   ]
  },
  {
   "cell_type": "code",
   "execution_count": 10,
   "metadata": {},
   "outputs": [
    {
     "name": "stdout",
     "output_type": "stream",
     "text": [
      "El caracter que codifica es Ċ\n",
      "\n",
      "Su decodificación es:\n"
     ]
    },
    {
     "data": {
      "text/plain": [
       "'El número 2 está en la casilla (0,1)'"
      ]
     },
     "execution_count": 10,
     "metadata": {},
     "output_type": "execute_result"
    }
   ],
   "source": [
    "atomo = OenCasilla.ravel([0,1,2])\n",
    "print(f\"El caracter que codifica es {atomo}\")\n",
    "print(\"\\nSu decodificación es:\")\n",
    "OenCasilla.escribir(atomo)"
   ]
  },
  {
   "cell_type": "markdown",
   "metadata": {},
   "source": [
    "Este método también toma en cuenta si el literal es positivo o negativo:"
   ]
  },
  {
   "cell_type": "code",
   "execution_count": 11,
   "metadata": {},
   "outputs": [
    {
     "data": {
      "text/plain": [
       "'El número 2 no está en la casilla (0,1)'"
      ]
     },
     "execution_count": 11,
     "metadata": {},
     "output_type": "execute_result"
    }
   ],
   "source": [
    "OenCasilla.escribir('-' + atomo)"
   ]
  },
  {
   "cell_type": "markdown",
   "metadata": {},
   "source": [
    "# Implementación de restricciones <a class=\"anchor\" id=\"imp\"></a>\n",
    "\n",
    "([Volver al inicio](#inicio))\n",
    "\n",
    "Ahora es necesario crear las reglas que limitarán los valores de verdad para las letras proposicionales. En nuestro problema de ejemplo tenemos tres restricciones:\n",
    "\n",
    "1. Un número sólo está en una casilla.\n",
    "2. No hay más de un número en una casilla.\n",
    "3. Debe haber por lo menos un número en una casilla."
   ]
  },
  {
   "cell_type": "markdown",
   "metadata": {},
   "source": [
    "## Restricción 1\n",
    "\n",
    "Comencemos por considerar la restricción 1, que dice que un número sólo está en una casilla:\n",
    "\n",
    "$$\\bigwedge_{x\\in\\{0,1\\}}\\bigwedge_{y\\in\\{0,1\\}}\\bigwedge_{n\\in Numeros}\\left(OenCasilla(x,y,n)\\to\\neg\\left(\\bigvee_{(u,v)\\neq (x,y)} OenCasilla(u,v,n)\\right)\\right)$$\n",
    "\n",
    "Saber cómo implementar toda esta fórmula de un solo tirón, con itorias y otorias anidadas, no es fácil. Desarrollaremos esta implementación siguiendo una serie de pasos, cada uno con mayor generalidad que el anterior.\n",
    "\n",
    "### Paso 1\n",
    "\n",
    "La fórmula para representar que si el 0 está en la casilla $(0,0)$, entonces no puede estar en ninguna otra casilla, es la siguiente:\n",
    "\n",
    "$$OenCasilla(0,0,0) \\to \\neg\\left(\\bigvee_{(u,v)\\neq (0,0)} OenCasilla(u,v,0)\\right)$$\n",
    "\n",
    "Esta fórmula se implementa en Python de la siguiente manera:"
   ]
  },
  {
   "cell_type": "code",
   "execution_count": null,
   "metadata": {},
   "outputs": [
    {
     "name": "stdout",
     "output_type": "stream",
     "text": [
      "(0, 0)\n",
      "[(0, 1), (1, 0), (1, 1)]\n",
      "(Ā>-((ĂOā)Oă))\n"
     ]
    }
   ],
   "source": [
    "x = 0\n",
    "y = 0\n",
    "casilla = (x,y)\n",
    "print(casilla)\n",
    "otras_casillas = [(i,j) for i in X for j in Y if (i,j) != (x,y)]\n",
    "print(otras_casillas)\n",
    "n = 0\n",
    "formula1 = ''\n",
    "inicial = True\n",
    "for casilla in otras_casillas:\n",
    "    u = casilla[0]\n",
    "    v = casilla[1]\n",
    "    if inicial:\n",
    "        formula1 = OenCasilla.ravel([u,v,n])\n",
    "        inicial = False\n",
    "    else:\n",
    "        formula1 = \"(\" + formula1 + \"O\" + OenCasilla.ravel([u,v,n]) + \")\"\n",
    "formula1 = \"(\" + OenCasilla.ravel([x,y,n]) + \">-\" + formula1 + \")\"\n",
    "print(formula1)"
   ]
  },
  {
   "cell_type": "markdown",
   "metadata": {},
   "source": [
    "Observe que la fórmula resultante es difícil de entender a simple vista, aunque un computador pueda trabajarla fácilmente. Para visualizarla de manera más comprensible y entender el significado del string generado por el código anterior, usaremos la función `visualizar_formula` que se encuentra en la librería `Logica`:"
   ]
  },
  {
   "cell_type": "code",
   "execution_count": 13,
   "metadata": {},
   "outputs": [
    {
     "name": "stdout",
     "output_type": "stream",
     "text": [
      "(El número 0 está en la casilla (0,0) >  no ((El número 0 está en la casilla (0,1) O El número 0 está en la casilla (1,0)) O El número 0 está en la casilla (1,1)))\n"
     ]
    }
   ],
   "source": [
    "from Logica import visualizar_formula\n",
    "\n",
    "print(visualizar_formula(formula1, OenCasilla))"
   ]
  },
  {
   "cell_type": "markdown",
   "metadata": {},
   "source": [
    "### Paso 2\n",
    "\n",
    "Para el siguiente paso, se debe replicar este procedimiento para los demás números. Es decir, se debe crear una regla que indique que, para cada número $n$, si $n$ ocupa la primera casilla, entonces $n$ no está en ninguna otra casilla. La fórmula de lógica proposicional que expresa esta restricción es la siguiente:\n",
    "\n",
    "$$\\bigwedge_{n\\in Numeros}\\left(OenCasilla(0,0,n)\\to\\neg\\left(\\bigvee_{(u,v)\\neq (0,0)} OenCasilla(u,v,n)\\right)\\right)$$\n"
   ]
  },
  {
   "cell_type": "markdown",
   "metadata": {},
   "source": [
    "**Ejercicio 1:** Implemente la fórmula anterior como un string de Python."
   ]
  },
  {
   "cell_type": "markdown",
   "metadata": {},
   "source": [
    "---"
   ]
  },
  {
   "cell_type": "markdown",
   "metadata": {},
   "source": [
    "### Paso 3\n",
    "\n",
    "Ahora que hemos creado la restricción para la casilla $(0,0)$, el siguiente paso consiste en replicar esta misma para todas las demás casillas. Con esto, tendremos que cada número podrá estar en a lo sumo una casilla. La fórmula lógica que expresa esta restricción es la siguiente:\n",
    "\n",
    "$$\\bigwedge_{x\\in\\{0,1\\}}\\bigwedge_{y\\in\\{0,1\\}}\\bigwedge_{n\\in Numeros}\\left(OenCasilla(x,y,n)\\to\\neg\\left(\\bigvee_{(u,v)\\neq (x,y)} OenCasilla(u,v,n)\\right)\\right)$$\n"
   ]
  },
  {
   "cell_type": "markdown",
   "metadata": {},
   "source": [
    "**Ejercicio 2:** Implemente la fórmula anterior como un string de Python."
   ]
  },
  {
   "cell_type": "markdown",
   "metadata": {},
   "source": [
    "---"
   ]
  },
  {
   "cell_type": "markdown",
   "metadata": {},
   "source": [
    "## Restricción 2\n",
    "\n",
    "La segunda restricción es que no puede haber más de un número en cada casilla. Es decir, si el número $n$ se encuentra dentro de la casilla $(x,y)$, otro número $m\\neq n$ no puede estar dentro de ella. La fórmula lógica que representa esta restricción es la siguiente:\n",
    "\n",
    "$$\\bigwedge_{x\\in\\{0,1\\}}\\bigwedge_{y\\in\\{0,1\\}}\\bigwedge_{n\\in Numeros}\\left(OenCasilla(x,y,n)\\to\\neg\\left(\\bigvee_{m\\neq n} OenCasilla(x,y,m)\\right)\\right)$$\n"
   ]
  },
  {
   "cell_type": "markdown",
   "metadata": {},
   "source": [
    "**Ejercicio 3:** Implemente la fórmula anterior como un string de Python."
   ]
  },
  {
   "cell_type": "markdown",
   "metadata": {},
   "source": [
    "---"
   ]
  },
  {
   "cell_type": "markdown",
   "metadata": {},
   "source": [
    "## Restricción 3\n",
    "\n",
    "La tercera restricción es que debe haber por lo menos un número en cada casilla. La fórmula lógica que representa esta restricción es la siguiente:\n",
    "\n",
    "$$\\bigwedge_{x\\in\\{0,1\\}}\\bigwedge_{y\\in\\{0,1\\}}\\left(\\bigvee_{n\\in Numeros}OenCasilla(x,y,n)\\right)$$\n"
   ]
  },
  {
   "cell_type": "markdown",
   "metadata": {},
   "source": [
    "**Ejercicio 4:** Implemente la fórmula anterior como un string de Python."
   ]
  },
  {
   "cell_type": "markdown",
   "metadata": {},
   "source": [
    "---"
   ]
  },
  {
   "cell_type": "markdown",
   "metadata": {},
   "source": [
    "En este taller usted aprendió a:\n",
    "\n",
    "1) Empaquetar información mediante letras proposicionales.\n",
    "\n",
    "2) Usar un objeto descriptor para cruzar información en Python.\n",
    "\n",
    "3) Implementar las notaciones $\\displaystyle\\bigwedge_{x\\in SET}$  y  $\\displaystyle\\bigvee_{x\\in SET}$ dentro de Python.\n",
    "\n",
    "4) Implementar restricciones como un string que contiene una fórmula en notación inorder."
   ]
  }
 ],
 "metadata": {
  "kernelspec": {
   "display_name": "Python 3 (ipykernel)",
   "language": "python",
   "name": "python3"
  },
  "language_info": {
   "codemirror_mode": {
    "name": "ipython",
    "version": 3
   },
   "file_extension": ".py",
   "mimetype": "text/x-python",
   "name": "python",
   "nbconvert_exporter": "python",
   "pygments_lexer": "ipython3",
   "version": "3.12.3"
  }
 },
 "nbformat": 4,
 "nbformat_minor": 4
}
