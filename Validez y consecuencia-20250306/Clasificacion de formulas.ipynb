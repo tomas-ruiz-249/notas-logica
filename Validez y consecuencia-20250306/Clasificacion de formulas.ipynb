{
 "cells": [
  {
   "cell_type": "markdown",
   "metadata": {},
   "source": [
    "<table>\n",
    "    <tr>\n",
    "        <td><img src=\"./img/Macc.png\" width=\"auto\"/></td>\n",
    "        <td>\n",
    "            <table><tr>\n",
    "            <h1 style=\"color:blue;text-align:center\">Lógica para Ciencias de la Computación</h1></td>\n",
    "            </tr></table>   \n",
    "        <td>&nbsp;</td>\n",
    "        <td>\n",
    "            <table><tr>\n",
    "            <tp><p style=\"font-size:150%;text-align:center\">Taller</p></tp>\n",
    "            <tp><p style=\"font-size:150%;text-align:center\">Clasificación de fórmulas</p></tp>\n",
    "            </tr></table>\n",
    "        </td>\n",
    "    </tr>\n",
    "</table>\n",
    "\n",
    "---"
   ]
  },
  {
   "cell_type": "markdown",
   "metadata": {},
   "source": [
    "# Objetivos <a class=\"anchor\" id=\"inicio\"></a>\n",
    "\n",
    "En este notebook vamos a utilizar las herramientas de evaluación del valor de verdad de una fórmula que hemos desarrollado hasta ahora, para clasificarla dentro de una de las categorías que aprendimos en clase. A saber, fórmulas válidas, satisfacibles, falseables, contingentes e inválidas."
   ]
  },
  {
   "cell_type": "markdown",
   "metadata": {},
   "source": [
    "# Secciones\n",
    "\n",
    "1. [SATproblem.](#sat)\n",
    "2. [Clasificación de fórmulas.](#clas)\n",
    "3. [Implicación lógica.](#imp)\n",
    "4. [Eficiencia de los algoritmos (opcional).](#efi)"
   ]
  },
  {
   "cell_type": "markdown",
   "metadata": {},
   "source": [
    "# SATproblem <a class=\"anchor\" id=\"sat\"></a>\n",
    "\n",
    "([Volver al inicio](#inicio))\n",
    "\n",
    "Hemos visto que una fórmula $A$ es satisacible sii existe una interpretación $I$ tal que $A$.valor$(I)=\\texttt{True}$. En lógica computacional, determinar si una fórmula $A$ es satisfacible se conoce como el SATproblem. En teoría de la complejidad, este problema es importante, toda vez que fue el primer problema que se demostró que es NP-completo. Pero esto es parte de otro curso. Para nosotros el SATproblem es importante porque su solución será la base tanto para la clasificación de fórmulas como para la resolución de problemas. \n",
    "\n",
    "Los algoritmos que, dada una fórmula $A$, búscan una interpretación $I$ tal que $A$.valor$(I)=\\texttt{True}$, se conocen como SATsolvers. En este notebook construiremos el primer SATsolver con base en las herramientas que tenemos a nuestra disposición."
   ]
  },
  {
   "cell_type": "markdown",
   "metadata": {},
   "source": [
    "**Ejercicio 1:** \n",
    "\n",
    "Implemente un método `SATtabla` el cual, dada una fórmula $A$, devuelve una interpretación $I$ tal que $A$.valor$(I)=\\texttt{True}$, si es que $A$ es satisfacible. Si no, `SATtabla` debe devolver `None`. Realice este método recorriendo las interpretaciones posibles de la fórmula una a una hasta encontrar una que la haga verdadera.\n",
    "\n",
    "Verifique su implementación para corroborar que las siguientes fórmulas son satisfacibles:\n",
    "\n",
    "**Nota importante:** Estas fórmulas usan simplificación de paréntesis. No olvide que para usar `inorder_to_tree` todos los paréntesis deben estar incluidos.\n",
    "\n",
    "\n",
    "* $\\neg p\\wedge q$\n",
    "* $\\bigl(p\\vee(q\\wedge r)\\bigr)\\wedge\\bigl((\\neg p\\vee \\neg q)\\wedge(\\neg p\\vee\\neg r)\\bigr)$\n",
    "* $(\\neg p\\leftrightarrow (q\\vee r))\\wedge(\\neg q\\vee\\neg p)\\wedge (\\neg r\\vee p)\\wedge (q\\vee r\\vee\\neg p)$\n",
    "\n",
    "Y que las siguientes fórmulas no son satisfacibles:\n",
    "\n",
    "* $p\\wedge (p\\to\\neg p)$\n",
    "* $\\neg(\\neg(p\\wedge q)\\to (\\neg p\\vee\\neg q))$\n",
    "* $(p\\leftrightarrow (q\\to r))\\wedge\\neg((q\\vee p)\\wedge (\\neg r\\vee p)\\wedge (\\neg q\\vee r\\vee\\neg p))$\n",
    "\n"
   ]
  },
  {
   "cell_type": "code",
   "execution_count": 3,
   "metadata": {},
   "outputs": [],
   "source": [
    "from itertools import product\n",
    "from Logica import *"
   ]
  },
  {
   "cell_type": "code",
   "execution_count": 4,
   "metadata": {},
   "outputs": [],
   "source": [
    "def SATtabla(A: Formula):\n",
    "    letras = A.letras()\n",
    "    num_letras = len(letras)\n",
    "    interpretaciones = [dict(zip(letras, c )) for c in product([True, False], repeat=num_letras)]\n",
    "    for I in interpretaciones:\n",
    "        if A.valor(I):\n",
    "            return I\n",
    "    return None\n",
    "\n",
    "setattr(Formula, 'SATtabla', SATtabla)"
   ]
  },
  {
   "cell_type": "code",
   "execution_count": 5,
   "metadata": {},
   "outputs": [
    {
     "name": "stdout",
     "output_type": "stream",
     "text": [
      "{'q': True, 'p': False}\n",
      "{'q': True, 'p': False, 'r': True}\n",
      "{'-': True, 'p': True, 'q': False, 'r': False}\n",
      "None\n",
      "None\n",
      "None\n"
     ]
    }
   ],
   "source": [
    "A = inorder_to_tree('(-pYq)')\n",
    "print(A.SATtabla())\n",
    "\n",
    "A = inorder_to_tree('((pO(qYr))Y((-pO-q)Y(-pO-r)))')\n",
    "print(A.SATtabla())\n",
    "\n",
    "A = inorder_to_tree('(((-p=(qOr))Y(-qO-p))Y((-rOp)Y((qOr)O-p))')\n",
    "print(A.SATtabla())\n",
    "\n",
    "A = inorder_to_tree('(pY(p>-p))')\n",
    "print(A.SATtabla())\n",
    "\n",
    "A = inorder_to_tree('-(-(pYq)>(-pO-q))')\n",
    "print(A.SATtabla())\n",
    "\n",
    "A = inorder_to_tree('(((p=(q>r))Y-(qOp))Y-((-rOp)Y((-qOr)O-p))')\n",
    "print(A.SATtabla())\n"
   ]
  },
  {
   "cell_type": "markdown",
   "metadata": {},
   "source": [
    "---"
   ]
  },
  {
   "cell_type": "markdown",
   "metadata": {},
   "source": [
    "# Clasificación de fórmulas <a class=\"anchor\" id=\"clas\"></a>\n",
    "\n",
    "([Volver al inicio](#inicio))\n",
    "\n",
    "En clase vimos la siguiente clasificación de una fórmula $A$, con base en la cantidad de interpretaciones que la hacen verdadera:\n",
    "\n",
    "<img src=\"./img/clasificacion.png\" width=\"auto\"/>\n",
    "\n"
   ]
  },
  {
   "cell_type": "markdown",
   "metadata": {},
   "source": [
    "**Ejercicio 2:**\n",
    "\n",
    "Complete el siguiente diagrama de flujo que permite realizar la clasificación \"$A$ es válida\", \"$A$ es insatisfacible\", \"$A$ es contingente\", el cual está basado en el uso de un SATsolver para decidir si una fórmula es satisfacible o no:\n",
    "\n",
    "<img src=\"./img/flow1.png\" width=\"auto\"/>"
   ]
  },
  {
   "cell_type": "markdown",
   "metadata": {},
   "source": [
    "-A NO es satisfacible -> A es valida\n",
    "\n",
    "-A es satisfacible -> A es contingente"
   ]
  },
  {
   "cell_type": "markdown",
   "metadata": {},
   "source": [
    "---"
   ]
  },
  {
   "cell_type": "markdown",
   "metadata": {},
   "source": [
    "**Ejercicio 3:**\n",
    "\n",
    "Utilice `if`s anidados para implementar el anterior diagrama de flujo en un método `clasifica` de la clase `Formula` que devuelve un string \"Válida\", \"Insatisfacible\" o \"Contingente\" de acuerdo a como corresponda.\n",
    "\n",
    "Compruebe su implementación con las siguientes fórmulas:\n",
    "\n",
    "* $p\\wedge (p\\to\\neg p)$ es insatisfacible.\n",
    "* $p\\to (\\neg p\\to q)$ es válida.\n",
    "* $p\\wedge (q\\to \\neg p)$ es contingente."
   ]
  },
  {
   "cell_type": "code",
   "execution_count": 6,
   "metadata": {},
   "outputs": [],
   "source": [
    "def clasifica(self: Formula):\n",
    "    if self.SATtabla() == None:\n",
    "        return 'INSATISFACIBLE'\n",
    "    else:\n",
    "        if Negacion(self).SATtabla() == None:\n",
    "            return 'VALIDA'\n",
    "        else:\n",
    "            return 'CONTINGENTE'\n",
    "\n",
    "setattr(Formula, 'clasifica', clasifica)"
   ]
  },
  {
   "cell_type": "code",
   "execution_count": 7,
   "metadata": {},
   "outputs": [
    {
     "name": "stdout",
     "output_type": "stream",
     "text": [
      "INSATISFACIBLE\n",
      "VALIDA\n",
      "CONTINGENTE\n"
     ]
    }
   ],
   "source": [
    "A = inorder_to_tree('(pY(p>-p))')\n",
    "print(A.clasifica())\n",
    "\n",
    "A = inorder_to_tree('(p>(-p>q))')\n",
    "print(A.clasifica())\n",
    "\n",
    "A = inorder_to_tree('(pY(q>-p))')\n",
    "print(A.clasifica())\n"
   ]
  },
  {
   "cell_type": "markdown",
   "metadata": {},
   "source": [
    "---"
   ]
  },
  {
   "cell_type": "markdown",
   "metadata": {},
   "source": [
    "# Implicación lógica <a class=\"anchor\" id=\"imp\"></a>\n",
    "\n",
    "([Volver al inicio](#inicio))\n",
    "\n",
    "Recordemos que en clase vimos la siguiente definición de implicación lógica:\n",
    "\n",
    "$U\\models B$ sii para toda interpretación $I$, si $A_i.{valor}(I)=\\texttt{True}$ para todo $A_i\\in U$,        entonces $B.{valor}(I)=\\texttt{True}$.\n",
    "\n",
    "También mencionamos que para verificar si hay o no implicación, es muy útil usar el siguiente teorema:\n",
    "\n",
    "*Proposición* Sea $B$ una fórmula y $U=\\{A_1,\\ldots,A_n\\}$ un conjunto de fórmulas:\n",
    "\n",
    "$U\\models B$ sii $\\bigl(A_1\\wedge\\ldots\\wedge A_n\\bigr)\\to B$ es válida."
   ]
  },
  {
   "cell_type": "markdown",
   "metadata": {},
   "source": [
    "**Ejercicio 4:**\n",
    "\n",
    "Complete el siguiente diagrama de flujo para determinar si hay implicación lógica entre un conjunto de fórmulas $U$ y una fórmula $B$ con base en un SATsolver.\n",
    "\n",
    "<img src=\"./img/flow_imp.png\" width=\"auto\"/>"
   ]
  },
  {
   "cell_type": "markdown",
   "metadata": {},
   "source": [
    "if -(Ytoria(U) -> B) es insatisfacible:\n",
    "\n",
    "    U no implica a B\n",
    "\n",
    "else\n",
    "\n",
    "    U implica a B"
   ]
  },
  {
   "cell_type": "markdown",
   "metadata": {},
   "source": [
    "---"
   ]
  },
  {
   "cell_type": "markdown",
   "metadata": {},
   "source": [
    "**Ejercicio 5:**\n",
    "\n",
    "Implemente una función `imp_log` que recibe como argumentos una lista de fórmulas `[A1,...,An]` y una fórmula `B` y devuelve verdadero sii $\\{A_1,\\ldots,A_n\\}\\models B$.\n",
    "\n",
    "Compruebe su código con las siguientes implicaciones:\n",
    "\n",
    "* $U\\,{=}\\,\\{p, \\neg q\\}$; $B\\,{=}\\,\\neg(p\\to q)$.\n",
    "* $U\\,{=}\\,\\{p\\to q, \\neg r, q\\to r\\}$; $B\\,{=}\\,\\neg p$.\n",
    "* $U\\,{=}\\,\\{r\\vee s, \\neg s\\wedge\\neg r, p\\vee q, p\\to q, r\\to s\\}$; $B\\,{=}\\,\\neg p\\wedge\\neg q$.\n",
    "\n",
    "Y compruebe que las siguientes no son implicaciones:\n",
    "\n",
    "* $U\\,{=}\\,\\{p\\wedge r,\\ (p\\wedge q)\\rightarrow\\lnot r \\}$; $B\\,{=}\\, q$\n",
    "* $U\\,{=}\\,\\{p\\rightarrow q,\\ p\\wedge(q\\rightarrow r),\\ r\\rightarrow s \\}$; $B\\,{=}\\,p\\wedge\\lnot s$"
   ]
  },
  {
   "cell_type": "code",
   "execution_count": 8,
   "metadata": {},
   "outputs": [],
   "source": [
    "def imp_log(U: list[str], B: str):\n",
    "    antecedente = inorder_to_tree(Ytoria(U))\n",
    "    consecuencia = inorder_to_tree(B)\n",
    "    proposicion = Negacion(Binario('>', antecedente, consecuencia))\n",
    "    if proposicion.SATtabla() == None:\n",
    "        return True\n",
    "    else:\n",
    "        return False"
   ]
  },
  {
   "cell_type": "code",
   "execution_count": 15,
   "metadata": {},
   "outputs": [
    {
     "name": "stdout",
     "output_type": "stream",
     "text": [
      "True\n",
      "True\n",
      "True\n",
      "False\n",
      "False\n"
     ]
    }
   ],
   "source": [
    "U = {'p', '-q'}\n",
    "B = '-(p>q)'\n",
    "print(imp_log(U,B))\n",
    "\n",
    "U = {'(p>q)', '-r', '(q>r)'}\n",
    "B = '-p'\n",
    "print(imp_log(U,B))\n",
    "\n",
    "U = {'(rOs)', '(-sY-r)', '(pOq)', '(p>q)', '(r>s)'}\n",
    "B = '(-pY-q)'\n",
    "print(imp_log(U,B))\n",
    "\n",
    "U = {'(pYr)', '((pYq)>-r)'}\n",
    "B = 'q'\n",
    "print(imp_log(U,B))\n",
    "\n",
    "U = {'(p>q)', '(pY(q>r))', '(r>s)'}\n",
    "B = '-(p>q)'\n",
    "print(imp_log(U,B))\n"
   ]
  },
  {
   "cell_type": "markdown",
   "metadata": {},
   "source": [
    "---"
   ]
  },
  {
   "cell_type": "markdown",
   "metadata": {},
   "source": [
    "# Sección opcional: Eficiencia de los algoritmos <a class=\"anchor\" id=\"efi\"></a>\n",
    "\n",
    "\n",
    "([Volver al inicio](#inicio))\n",
    "\n",
    "Hemos afirmado anteriormente que la eficiencia de los algoritmos es un tema central en las ciencias de la computación. Vamos a comprobar que nuestro SATsolver hasta el momento tiene un comportamiento exponencial de tiempo de ejecución con base en el número de letras proposicionales distintas que haya en la fórmula de entrada. Así pues, vamos a ver que el tiempo que demora el método `SATtabla` al correr sobre una fórmula `A` depende de manera exponencial en el tamaño de `A.letras()`.\n",
    "\n",
    "Definimos nuestras funciones para medir tiempos en una lista de entradas: "
   ]
  },
  {
   "cell_type": "code",
   "execution_count": 10,
   "metadata": {},
   "outputs": [
    {
     "ename": "ModuleNotFoundError",
     "evalue": "No module named 'seaborn'",
     "output_type": "error",
     "traceback": [
      "\u001b[0;31m---------------------------------------------------------------------------\u001b[0m",
      "\u001b[0;31mModuleNotFoundError\u001b[0m                       Traceback (most recent call last)",
      "Cell \u001b[0;32mIn[10], line 2\u001b[0m\n\u001b[1;32m      1\u001b[0m \u001b[38;5;28;01mfrom\u001b[39;00m \u001b[38;5;21;01mtime\u001b[39;00m \u001b[38;5;28;01mimport\u001b[39;00m time\n\u001b[0;32m----> 2\u001b[0m \u001b[38;5;28;01mimport\u001b[39;00m \u001b[38;5;21;01mseaborn\u001b[39;00m \u001b[38;5;28;01mas\u001b[39;00m \u001b[38;5;21;01msns\u001b[39;00m\n\u001b[1;32m      3\u001b[0m \u001b[38;5;28;01mimport\u001b[39;00m \u001b[38;5;21;01mpandas\u001b[39;00m \u001b[38;5;28;01mas\u001b[39;00m \u001b[38;5;21;01mpd\u001b[39;00m\n\u001b[1;32m      5\u001b[0m \u001b[38;5;28;01mdef\u001b[39;00m \u001b[38;5;21mobtiene_tiempos\u001b[39m(fun, args, num_it\u001b[38;5;241m=\u001b[39m\u001b[38;5;241m100\u001b[39m):\n",
      "\u001b[0;31mModuleNotFoundError\u001b[0m: No module named 'seaborn'"
     ]
    }
   ],
   "source": [
    "from time import time\n",
    "import seaborn as sns\n",
    "import pandas as pd\n",
    "\n",
    "def obtiene_tiempos(fun, args, num_it=100):\n",
    "    tiempos_fun = []\n",
    "    for i in range(num_it):\n",
    "        arranca = time()\n",
    "        x = fun(*args)\n",
    "        para = time()\n",
    "        tiempos_fun.append(para - arranca)\n",
    "    return tiempos_fun\n",
    "\n",
    "def compara_entradas(fun, lista_args, N=100):\n",
    "    entradas = []\n",
    "    tiempos = []\n",
    "    for i, args in enumerate(lista_args):\n",
    "        t = obtiene_tiempos(fun, [args], N)\n",
    "        tiempos += t\n",
    "        n = len(t)\n",
    "        entradas += [i+1]*n\n",
    "    df = pd.DataFrame({'Long_entrada':entradas, 'Tiempo_prom':tiempos})\n",
    "    print(df.head())\n",
    "    sns.lineplot(x='Long_entrada',y='Tiempo_prom',data=df)\n",
    "    plt.show()"
   ]
  },
  {
   "cell_type": "markdown",
   "metadata": {},
   "source": [
    "Creamos nuestra lista de fórmulas:"
   ]
  },
  {
   "cell_type": "code",
   "execution_count": null,
   "metadata": {},
   "outputs": [],
   "source": [
    "from random import uniform, choice\n",
    "\n",
    "cantidad = 20\n",
    "letras = [chr(i) for i in range(256, 256+cantidad)]\n",
    "lista = [letras[0]]\n",
    "formula = letras[0]\n",
    "for p in letras[1:]:\n",
    "    neg = '-' if uniform(0,1) > .5 else ''\n",
    "    conectivo = choice(['Y','O','>','='])\n",
    "    formula = \"(\" + formula + conectivo + neg + p + \")\"\n",
    "    lista.append(formula)\n",
    "\n",
    "lista"
   ]
  },
  {
   "cell_type": "markdown",
   "metadata": {},
   "source": [
    "Y, finalmente, medimos los tiempos de ejecución para cada fórmula:"
   ]
  },
  {
   "cell_type": "code",
   "execution_count": null,
   "metadata": {
    "scrolled": false
   },
   "outputs": [],
   "source": [
    "fun = lambda formula: inorder_to_tree(formula).SATtabla()\n",
    "compara_entradas(fun, lista)"
   ]
  },
  {
   "cell_type": "markdown",
   "metadata": {},
   "source": [
    "En esta gráfica es muy fácil apreciar que, a medida que aumentamos el número de letras proposicionales distintas en la fórmula de entrada, el algoritmo se tarda cada vez más en determinar si ella es satisfacible. Más aún, la relación entre el número de letras y el tiempo es claramente exponencial.\n",
    "\n",
    "Como conclusión, vemos que si necesitamos una gran cantidad de letras proposicionales, nuestro SATsolver `SATtabla` resultará completamente ineficiente."
   ]
  },
  {
   "cell_type": "markdown",
   "metadata": {},
   "source": [
    "---"
   ]
  }
 ],
 "metadata": {
  "kernelspec": {
   "display_name": "Python 3 (ipykernel)",
   "language": "python",
   "name": "python3"
  }
 },
 "nbformat": 4,
 "nbformat_minor": 4
}
