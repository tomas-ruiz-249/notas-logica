{
 "cells": [
  {
   "cell_type": "code",
   "execution_count": 4,
   "metadata": {},
   "outputs": [],
   "source": [
    "from groundedPL.codificacion import ToPropositionalLogic\n",
    "from groundedPL.logUtils import LogUtils\n",
    "from groundedPL.tseitin import TseitinTransform\n",
    "import matplotlib.pyplot as plt\n",
    "import matplotlib.patches as patches\n",
    "import numpy as np\n",
    "from typing import List, Dict, Optional, Tuple"
   ]
  },
  {
   "cell_type": "code",
   "execution_count": 5,
   "metadata": {},
   "outputs": [],
   "source": [
    "# Definición de colores y casillas\n",
    "colores = ['Amarillo', 'Azul', 'Rojo', 'Verde']\n",
    "casillas = ['A','B','C','D','E','F','G','H','I']\n",
    "casillas_ = [f'nodo{c}' for c in casillas]"
   ]
  },
  {
   "cell_type": "code",
   "execution_count": 6,
   "metadata": {},
   "outputs": [],
   "source": [
    "# Parser para lógica proposicional\n",
    "parser = ToPropositionalLogic()\n",
    "parser.debug = False"
   ]
  },
  {
   "cell_type": "code",
   "execution_count": 7,
   "metadata": {},
   "outputs": [],
   "source": [
    "# Definición de vecinos según tu especificación\n",
    "vecinos = {\n",
    "    'A': ['B','D','E','F'],\n",
    "    'B': ['A','C','F','G'],\n",
    "    'C': ['B','D','G','H'],\n",
    "    'D': ['A','C','E','H'],\n",
    "    'E': ['A','D','F','H','I'],\n",
    "    'F': ['A','B','E','G','I'],\n",
    "    'G': ['B','C','F','H','I'],\n",
    "    'H': ['C','D','E','G','I'],\n",
    "    'I': ['E','F','G','H'],\n",
    "}"
   ]
  },
  {
   "cell_type": "code",
   "execution_count": 8,
   "metadata": {},
   "outputs": [],
   "source": [
    "# Regla 1: cada casilla tiene al menos un color\n",
    "def Regla1():\n",
    "    listacasillas = []\n",
    "    for k in casillas_:\n",
    "        listacolores = []\n",
    "        for c in colores:\n",
    "            f = parser.to_nltk(f'ColorEnCasilla({c}, {k})')\n",
    "            listacolores.append(f)\n",
    "        ocasilla = LogUtils.Otoria(listacolores)\n",
    "        listacasillas.append(ocasilla)\n",
    "    return LogUtils.Ytoria(listacasillas)"
   ]
  },
  {
   "cell_type": "code",
   "execution_count": 9,
   "metadata": {},
   "outputs": [],
   "source": [
    "# Regla 2: cada casilla tiene como máximo un color (exclusividad)\n",
    "def Regla2():\n",
    "    clausulas = []\n",
    "    for k in casillas_:\n",
    "        for i in range(len(colores)):\n",
    "            for j in range(i+1, len(colores)):\n",
    "                c1, c2 = colores[i], colores[j]\n",
    "                f1 = parser.to_nltk(f'-ColorEnCasilla({c1}, {k})')\n",
    "                f2 = parser.to_nltk(f'-ColorEnCasilla({c2}, {k})')\n",
    "                clausulas.append(LogUtils.Otoria([f1, f2]))\n",
    "    return LogUtils.Ytoria(clausulas)\n"
   ]
  },
  {
   "cell_type": "code",
   "execution_count": 10,
   "metadata": {},
   "outputs": [],
   "source": [
    "# Regla 3: regiones vecinas no comparten color\n",
    "def Regla3():\n",
    "    clausulas = []\n",
    "    for k, vecino in vecinos.items():\n",
    "        for v in vecino:\n",
    "            for c in colores:\n",
    "                if k < v:\n",
    "                    f1 = parser.to_nltk(f'-ColorEnCasilla({c}, nodo{k})')\n",
    "                    f2 = parser.to_nltk(f'-ColorEnCasilla({c}, nodo{v})')\n",
    "                    clausulas.append(LogUtils.Otoria([f1, f2]))\n",
    "    return LogUtils.Ytoria(clausulas)"
   ]
  },
  {
   "cell_type": "code",
   "execution_count": 11,
   "metadata": {},
   "outputs": [],
   "source": [
    "# Regla total\n",
    "def ReglaTotal():\n",
    "    return LogUtils.Ytoria([Regla1(), Regla2(), Regla3()])\n"
   ]
  },
  {
   "cell_type": "code",
   "execution_count": 12,
   "metadata": {},
   "outputs": [],
   "source": [
    "\n",
    "def visualizar(I):\n",
    "    # Inicializo el plano que contiene la figura\n",
    "    fig, axes = plt.subplots(figsize=(8, 8))\n",
    "    axes.get_xaxis().set_visible(False)\n",
    "    axes.get_yaxis().set_visible(False)\n",
    "    \n",
    "    # Radio del círculo principal\n",
    "    radius = 1.4\n",
    "    # Radio del círculo medio\n",
    "    mid_radius = 0.8\n",
    "    # Radio del círculo interno\n",
    "    inner_radius = 0.3\n",
    "    \n",
    "    # Diccionario de colores traducidos a inglés\n",
    "    color_dict = {\n",
    "        'Rojo': 'red',\n",
    "        'Azul': 'cornflowerblue',\n",
    "        'Amarillo': 'yellow',\n",
    "        'Verde': 'green'\n",
    "    }\n",
    "\n",
    "    #Creacion de un diccionario vacio\n",
    "    colores_asignados={}\n",
    "    for casilla in casillas:\n",
    "        for color in colores:\n",
    "            formula=f'ColorEnCasilla({color}, nodo{casilla})' #se recorren todas las posibles formulas\n",
    "            if I.get(formula): #si la formula se encuentra con un valor verdadero en el diccionario I...\n",
    "                colores_asignados[casilla]=color #...la casilla se usa como llave para acceder al color en el diccionario\n",
    "                break\n",
    "      \n",
    "  \n",
    "    \n",
    "    # Configuración de ángulos para las secciones externas e internas\n",
    "    outer_angles = {\n",
    "        'A': {'start': 315, 'end': 45},    # A en la parte superior-izquierda\n",
    "        'B': {'start': 45, 'end': 135},    # B en la parte superior-derecha\n",
    "        'C': {'start': 135, 'end': 225},   # C en la parte inferior-derecha\n",
    "        'D': {'start': 225, 'end': 315}    # D en la parte inferior-izquierda\n",
    "    }\n",
    "    \n",
    "    middle_angles = {\n",
    "        'E': {'start': 270, 'end': 360},  # E toca A y D\n",
    "        'F': {'start': 0, 'end': 90},     # F toca A y B\n",
    "        'G': {'start': 90, 'end': 180},   # G toca B y C\n",
    "        'H': {'start': 180, 'end': 270}   # H toca C y D\n",
    "    }\n",
    "    \n",
    "    # Dibujar las secciones externas (A, B, C, D)\n",
    "    for casilla, angles in outer_angles.items():\n",
    "        \n",
    "        esp_color = colores_asignados[casilla]     #se accede al color que corresponde a cada casilla usando el diccionario colores_asignados para acceder al color en español y color_dict para el equivalente en ingles             \n",
    "        eng_color = color_dict[esp_color]\n",
    "        \n",
    "      \n",
    "        # Crear el sector externo\n",
    "        wedge = patches.Wedge(center=(0, 0), r=radius, theta1=angles['start'], theta2=angles['end'], \n",
    "                             facecolor=eng_color, edgecolor='black')\n",
    "        axes.add_patch(wedge)\n",
    "        \n",
    "        # Añadir la etiqueta en el centro del sector\n",
    "        start, end = angles['start'], angles['end']\n",
    "        if end < start:\n",
    "            end += 360\n",
    "        angle_mid = (start + end) / 2\n",
    "        angle_rad = np.radians(angle_mid % 360)\n",
    "        x = radius * 0.85 * np.cos(angle_rad)\n",
    "        y = radius * 0.85 * np.sin(angle_rad)\n",
    "        axes.text(x, y, casilla, ha='center', va='center', fontweight='bold', fontsize=15, color='black')\n",
    "    \n",
    "    # Dibujar las secciones medias (E, F, G, H)\n",
    "    for casilla, angles in middle_angles.items():\n",
    "        esp_color = colores_asignados[casilla]                  \n",
    "        eng_color = color_dict[esp_color]\n",
    "        # Crear el sector medio\n",
    "        wedge = patches.Wedge(center=(0, 0), r=mid_radius, theta1=angles['start'], theta2=angles['end'], \n",
    "                             facecolor=eng_color, edgecolor='black')\n",
    "        axes.add_patch(wedge)\n",
    "        \n",
    "        # Añadir la etiqueta\n",
    "        angle_rad = np.radians((angles['start'] + angles['end']) / 2)\n",
    "        x = mid_radius * 0.55 * np.cos(angle_rad)\n",
    "        y = mid_radius * 0.55 * np.sin(angle_rad)\n",
    "        axes.text(x, y, casilla, ha='center', va='center', fontweight='bold', fontsize=15, color='black')\n",
    "    \n",
    "    # Dibujar la sección central (I)\n",
    "    # Crear el círculo central para I\n",
    "    esp_color_I= colores_asignados['I']\n",
    "    color_I= color_dict[esp_color_I]\n",
    "    center_circle = patches.Circle((0, 0), radius=inner_radius, facecolor=color_I, edgecolor='black')\n",
    "    axes.add_patch(center_circle)\n",
    "    \n",
    "    # Añadir la etiqueta para I\n",
    "    axes.text(0, 0, 'I', ha='center', va='center', fontweight='bold', fontsize=15, color='black')\n",
    "    \n",
    "    # Añadir leyenda para conflictos\n",
    "    # Ajustar la relación de aspecto para un círculo perfecto\n",
    "    axes.set_aspect('equal', 'box')\n",
    "    \n",
    "    # Configurar los límites de los ejes\n",
    "    axes.set_xlim(-1.6, 1.6)\n",
    "    axes.set_ylim(-1.6, 1.6)\n",
    "    \n",
    "    # Mostrar el gráfico\n",
    "    plt.show()\n"
   ]
  },
  {
   "cell_type": "code",
   "execution_count": 13,
   "metadata": {},
   "outputs": [],
   "source": [
    "# --- Algoritmo DPLL ---\n",
    "# Helpers\n",
    "\n",
    "def complemento(literal: str) -> str:\n",
    "    if literal.startswith('-'):\n",
    "        return literal[1:]\n",
    "    else:\n",
    "        return '-' + literal"
   ]
  },
  {
   "cell_type": "code",
   "execution_count": 14,
   "metadata": {},
   "outputs": [],
   "source": [
    "def eliminar_literal(S: List[List[str]], l: str) -> List[List[str]]:\n",
    "    S1 = [c for c in S if l not in c]\n",
    "    cl = complemento(l)\n",
    "    return [[p for p in c if p != cl] for c in S1]"
   ]
  },
  {
   "cell_type": "code",
   "execution_count": 15,
   "metadata": {},
   "outputs": [],
   "source": [
    "def extender_I(I:Dict[str,bool], lit:str)->Dict[str,bool]:\n",
    "    I1 = {key:value for key,value in I.items() if key != lit}\n",
    "    if '-' in lit:\n",
    "        I1[lit[-1]] = False\n",
    "    else:\n",
    "        I1[lit] = True\n",
    "    return I1\n"
   ]
  },
  {
   "cell_type": "code",
   "execution_count": 16,
   "metadata": {},
   "outputs": [],
   "source": [
    "def unit_propagate(S:List[List[str]], I:Dict[str,bool])->Tuple[List[List[str]],Dict[str,bool]]:\n",
    "    while [] not in S:\n",
    "        lit = ''\n",
    "        for c in S:\n",
    "            if len(c) == 1:\n",
    "                lit = c[0]\n",
    "                S = eliminar_literal(S, lit)\n",
    "                I = extender_I(I, lit)\n",
    "                break\n",
    "        if lit == '':\n",
    "            break\n",
    "    return S, I"
   ]
  },
  {
   "cell_type": "code",
   "execution_count": 17,
   "metadata": {},
   "outputs": [],
   "source": [
    "def DPLL(S: List[List[str]], I: Dict[str,bool]) -> Optional[Dict[str,bool]]:\n",
    "    S, I = unit_propagate(S, I)\n",
    "    if [] in S:\n",
    "        return None\n",
    "    if not S:\n",
    "        return I\n",
    "    # elegir primer literal\n",
    "    for claus in S:\n",
    "        for lit in claus:\n",
    "            l=lit\n",
    "            for lit in (l, complemento(l)):\n",
    "                S1 = eliminar_literal(S, lit)\n",
    "                I1 = extender_I(I, lit)\n",
    "            r = DPLL(S1, I1)\n",
    "            if r is not None:\n",
    "                return r\n",
    "    return None"
   ]
  },
  {
   "cell_type": "code",
   "execution_count": 62,
   "metadata": {},
   "outputs": [],
   "source": [
    "# Función principal\n",
    "def solucion_y_visualizar():\n",
    "    # Construir la fórmula total y codificar a cadena\n",
    "    F = ReglaTotal()\n",
    "    codigo= parser.parse(F)\n",
    "    # Tseitin a CNF\n",
    "    cnf = TseitinTransform().tseitin(codigo)\n",
    "    S = [list(c) for c in cnf]\n",
    "    # Resolver\n",
    "    modelo = DPLL(S, {})\n",
    "     # Reconstruir I para visualización (con claves de tipo cadena)\n",
    "    I = {}\n",
    "    for casilla in casillas:\n",
    "        for color in colores:\n",
    "            formula = f'ColorEnCasilla({color}, nodo{casilla})'\n",
    "            # modelo.keys() son códigos parseados, así que consultamos con parser.parse\n",
    "            I[formula] = modelo.get(parser.parse(formula), False)\n",
    "    # Visualizar\n",
    "    visualizar(I)"
   ]
  },
  {
   "cell_type": "code",
   "execution_count": 65,
   "metadata": {},
   "outputs": [
    {
     "data": {
      "image/png": "[encoded data removed]",
      "text/plain": [
       "<Figure size 800x800 with 1 Axes>"
      ]
     },
     "metadata": {},
     "output_type": "display_data"
    }
   ],
   "source": [
    "# Llamada final\n",
    "solucion_y_visualizar()"
   ]
  },
  {
   "cell_type": "code",
   "execution_count": null,
   "metadata": {},
   "outputs": [],
   "source": []
  },
  {
   "cell_type": "code",
   "execution_count": null,
   "metadata": {},
   "outputs": [],
   "source": []
  }
 ],
 "metadata": {
  "kernelspec": {
   "display_name": "Python 3 (ipykernel)",
   "language": "python",
   "name": "python3"
  }
 },
 "nbformat": 4,
 "nbformat_minor": 4
}
