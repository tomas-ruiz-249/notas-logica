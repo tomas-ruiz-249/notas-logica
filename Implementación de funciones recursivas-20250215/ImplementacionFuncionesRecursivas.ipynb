{
 "cells": [
  {
   "cell_type": "markdown",
   "metadata": {},
   "source": [
    "<table>\n",
    "    <tr>\n",
    "        <td><img src=\"./img/Macc.png\" width=\"auto\"/></td>\n",
    "        <td>\n",
    "            <table><tr>\n",
    "            <h1 style=\"color:blue;text-align:center\">Lógica para Ciencias de la Computación</h1></td>\n",
    "            </tr></table>   \n",
    "        <td>&nbsp;</td>\n",
    "        <td>\n",
    "            <table><tr>\n",
    "            <tp><p style=\"font-size:150%;text-align:center\">Taller</p></tp>\n",
    "            <tp><p style=\"font-size:150%;text-align:center\">Implementación de funciones recursivas</p></tp>\n",
    "            </tr></table>\n",
    "        </td>\n",
    "    </tr>\n",
    "</table>\n",
    "\n",
    "---"
   ]
  },
  {
   "cell_type": "markdown",
   "metadata": {},
   "source": [
    "# Objetivo <a class=\"anchor\" id=\"inicio\"></a>\n",
    "\n",
    "En este taller nos familiarizaremos con la implementación de funciones recursivas sobre números naturales y árboles binarios."
   ]
  },
  {
   "cell_type": "markdown",
   "metadata": {},
   "source": [
    "# Secciones\n",
    "\n",
    "1. [Definición de funciones recursivas sobre números naturales.](#funs)\n",
    "2. [Ejercicios números.](#ejers1)\n",
    "3. [Implementación de árboles.](#imp)\n",
    "4. [Ejercicios árboles.](#ejers2)"
   ]
  },
  {
   "cell_type": "markdown",
   "metadata": {},
   "source": [
    "# Definición de funciones recursivas sobre números naturales <a class=\"anchor\" id=\"funs\"></a>\n",
    "\n",
    "([Volver al inicio](#inicio))\n",
    "\n",
    "Anteriormente hemos considerado de manera abstracta algunos objetos \"por capas\", así como las funciones recursivas que actúan sobre ellos. El propósito de este notebook es implementar esos objetos y funciones mediante Python. Al finalizar este notebook usted estará en capacidad de escribir un código Python para crear objetos que representan números naturales y árboles, y podrá escribir funciones recursivas que actúen sobre ellos.\n",
    "\n",
    "En la Actividad 1 hemos aprendido a ver los números naturales como objetos \"por capas\" y hemos aprendido a evaluar y definir funciones recursivas sobre números naturales; es hora de comenzar a escribir un código Python para definir funciones recursivas sobre números naturales. \n",
    "\n",
    "Definamos la función recursiva `pot2(n)` de calcula $2^n$, $n\\in\\mathbb{R}$:"
   ]
  },
  {
   "cell_type": "code",
   "execution_count": 6,
   "metadata": {},
   "outputs": [],
   "source": [
    "def pot2(n):\n",
    "    if n == 0:\n",
    "        return 1\n",
    "    else:\n",
    "        return 2 * pot2(n - 1)"
   ]
  },
  {
   "cell_type": "code",
   "execution_count": 7,
   "metadata": {},
   "outputs": [
    {
     "data": {
      "text/plain": [
       "32"
      ]
     },
     "execution_count": 7,
     "metadata": {},
     "output_type": "execute_result"
    }
   ],
   "source": [
    "pot2(5)"
   ]
  },
  {
   "cell_type": "markdown",
   "metadata": {},
   "source": [
    "# Ejercicios números <a class=\"anchor\" id=\"ejers1\"></a>\n",
    "\n",
    "([Volver al inicio](#inicio))"
   ]
  },
  {
   "cell_type": "markdown",
   "metadata": {},
   "source": [
    "**Ejercicio 1:**\n",
    "\n",
    "Defina la función `suma(n)`, la cual calcula la suma de los $n$ primeros números naturales, $suma(n)=0+1+2+\\cdots+n$.\n",
    "\n",
    "Compruebe su respuesta con los siguientes valores:\n",
    "\n",
    "* `suma(100) = 5050`\n",
    "* `suma(1000) = 500500`\n",
    "* `suma(2000) = 2001000`"
   ]
  },
  {
   "cell_type": "code",
   "execution_count": 2,
   "metadata": {},
   "outputs": [],
   "source": [
    "def suma(n):\n",
    "    if n == 0:\n",
    "        return 0\n",
    "    else:\n",
    "        return n + suma(n-1)"
   ]
  },
  {
   "cell_type": "code",
   "execution_count": 3,
   "metadata": {},
   "outputs": [
    {
     "data": {
      "text/plain": [
       "5050"
      ]
     },
     "execution_count": 3,
     "metadata": {},
     "output_type": "execute_result"
    }
   ],
   "source": [
    "suma(100)"
   ]
  },
  {
   "cell_type": "code",
   "execution_count": 4,
   "metadata": {},
   "outputs": [
    {
     "data": {
      "text/plain": [
       "500500"
      ]
     },
     "execution_count": 4,
     "metadata": {},
     "output_type": "execute_result"
    }
   ],
   "source": [
    "suma(1000)"
   ]
  },
  {
   "cell_type": "code",
   "execution_count": 5,
   "metadata": {},
   "outputs": [
    {
     "data": {
      "text/plain": [
       "2001000"
      ]
     },
     "execution_count": 5,
     "metadata": {},
     "output_type": "execute_result"
    }
   ],
   "source": [
    "suma(2000)"
   ]
  },
  {
   "cell_type": "markdown",
   "metadata": {},
   "source": [
    "**Ejercicio 2:**\n",
    "\n",
    "Defina las función `pot7(n)`, la cual calcula las potencias de 7.   \n",
    "\n",
    "Compruebe su respuesta con los siguientes valores:\n",
    "\n",
    "* `pot7(10) = 282475249`\n",
    "* `pot7(20) = 79792266297612001`\n",
    "* `pot7(30) = 22539340290692258087863249`"
   ]
  },
  {
   "cell_type": "code",
   "execution_count": 6,
   "metadata": {},
   "outputs": [],
   "source": [
    "def pot7(n):\n",
    "    if n == 0:\n",
    "        return 1\n",
    "    else:\n",
    "        return 7 * pot7(n-1)"
   ]
  },
  {
   "cell_type": "code",
   "execution_count": 7,
   "metadata": {},
   "outputs": [
    {
     "data": {
      "text/plain": [
       "282475249"
      ]
     },
     "execution_count": 7,
     "metadata": {},
     "output_type": "execute_result"
    }
   ],
   "source": [
    "pot7(10)"
   ]
  },
  {
   "cell_type": "code",
   "execution_count": 8,
   "metadata": {},
   "outputs": [
    {
     "data": {
      "text/plain": [
       "79792266297612001"
      ]
     },
     "execution_count": 8,
     "metadata": {},
     "output_type": "execute_result"
    }
   ],
   "source": [
    "pot7(20)"
   ]
  },
  {
   "cell_type": "code",
   "execution_count": 9,
   "metadata": {},
   "outputs": [
    {
     "data": {
      "text/plain": [
       "22539340290692258087863249"
      ]
     },
     "execution_count": 9,
     "metadata": {},
     "output_type": "execute_result"
    }
   ],
   "source": [
    "pot7(30)"
   ]
  },
  {
   "cell_type": "markdown",
   "metadata": {},
   "source": [
    "**Ejercicio 3:**\n",
    "\n",
    "Defina las función `fib(n)`, la cual calcula el $n$-ésimo término de la sucesión de fibonacci: $0,1,1,2,3,5,8,13,..$, $fib(6)=8$. \n",
    "\n",
    "Compruebe su respuesta con los siguientes valores:\n",
    "\n",
    "* `fib(10) = 55`\n",
    "* `fib(20) = 6765`\n",
    "* `fib(30) = 832040`"
   ]
  },
  {
   "cell_type": "code",
   "execution_count": 11,
   "metadata": {},
   "outputs": [
    {
     "name": "stdout",
     "output_type": "stream",
     "text": [
      "55\n",
      "6765\n",
      "832040\n"
     ]
    }
   ],
   "source": [
    "def fib(n):\n",
    "    if n == 0:\n",
    "        return n\n",
    "    elif n == 1:\n",
    "        return n\n",
    "    else:\n",
    "        return fib(n-1) + fib(n-2)\n",
    "\n",
    "print(fib(10))\n",
    "print(fib(20))\n",
    "print(fib(30))"
   ]
  },
  {
   "cell_type": "markdown",
   "metadata": {},
   "source": [
    "# Implementación de  árboles <a class=\"anchor\" id=\"imp\"></a>\n",
    "\n",
    "([Volver al inicio](#inicio))\n",
    "\n",
    "En la actividad 2 hemos aprendido a definir árboles binarios como objetos recursivos y a calcular algunas funciones recursivas sobre ellos. Ahora usted deberá escribir un código Python para definir funciones recursivas sobre árboles binarios.\n",
    "\n",
    "Nuestra implementación de los árboles está basada en una clase llamada `Tree`:"
   ]
  },
  {
   "cell_type": "code",
   "execution_count": 12,
   "metadata": {},
   "outputs": [],
   "source": [
    "class Tree :\n",
    "    def __init__(self, left, right) :\n",
    "        self.left = left\n",
    "        self.right = right"
   ]
  },
  {
   "cell_type": "markdown",
   "metadata": {},
   "source": [
    "Observe que al correr este código no se obtiene nada, pues simplemente está creando en memoria el tipo de objeto llamado `Tree`. \n",
    "\n",
    "Un objeto `Tree` tiene dos propiedades: `left` y `right`. En cada uno de ellos puede ir o bien `None` o bien otro `Tree`."
   ]
  },
  {
   "cell_type": "markdown",
   "metadata": {},
   "source": [
    "Veamos la construcción del siguiente árbol:"
   ]
  },
  {
   "cell_type": "markdown",
   "metadata": {},
   "source": [
    "<td><img src=\"./img/arbol.png\" width=\"200px\"/></td>"
   ]
  },
  {
   "cell_type": "code",
   "execution_count": 13,
   "metadata": {},
   "outputs": [],
   "source": [
    "h = Tree(None, None)\n",
    "r1 = Tree(h, h)\n",
    "r2 = Tree(h, r1)"
   ]
  },
  {
   "cell_type": "markdown",
   "metadata": {},
   "source": [
    "Observe que al correr este código no se obtiene nada, pues simplemente están creando en memoria tres objetos `Tree`. Cualquiera de los anteriores es un objeto `Tree`."
   ]
  },
  {
   "cell_type": "markdown",
   "metadata": {},
   "source": [
    "**Definición de funciones recursivas sobre árboles**\n",
    "\n",
    "Una hoja no tiene ninguna arista. Una rama tiene dos aristas. ¿Cuántas aristas tiene `h`? ¿`r1`? ¿`r2`?\n",
    "Contamos las aristas mediante la función recursiva `num_aristas(A)`:\n"
   ]
  },
  {
   "cell_type": "code",
   "execution_count": 14,
   "metadata": {},
   "outputs": [],
   "source": [
    "def num_aristas(A) :\n",
    "    if A.right == None:\n",
    "        return 0\n",
    "    else:\n",
    "        return 2 + num_aristas(A.left) + num_aristas(A.right)"
   ]
  },
  {
   "cell_type": "code",
   "execution_count": 15,
   "metadata": {},
   "outputs": [
    {
     "data": {
      "text/plain": [
       "4"
      ]
     },
     "execution_count": 15,
     "metadata": {},
     "output_type": "execute_result"
    }
   ],
   "source": [
    "num_aristas(r2)"
   ]
  },
  {
   "cell_type": "markdown",
   "metadata": {},
   "source": [
    "# Ejercicios árboles <a class=\"anchor\" id=\"ejers2\"></a>\n",
    "\n",
    "([Volver al inicio](#inicio))"
   ]
  },
  {
   "cell_type": "markdown",
   "metadata": {},
   "source": [
    "**Ejercicio 4:**\n",
    "\n",
    "Utilice la estructura `Tree` para representar los árboles $k_2$ y $t_3$ del taller \"Recursión sobre números y árboles\"\n",
    "<td><img src=\"./img/a2.png\" width=\"550px\"/></td>"
   ]
  },
  {
   "cell_type": "markdown",
   "metadata": {},
   "source": [
    "**Ejercicio 5:**\n",
    "\n",
    "Evalue la función `num_aristas` en los árboles del ejercicio anterior.\n",
    "\n",
    "La respuesta debe ser:\n",
    "\n",
    "* `num_aristas(k2) = 6`\n",
    "* `num_aristas(t3) = 6`"
   ]
  },
  {
   "cell_type": "code",
   "execution_count": 16,
   "metadata": {},
   "outputs": [],
   "source": [
    "h = Tree(None, None)\n",
    "k1 = Tree(h, h)\n",
    "k2 = Tree(k1, k1)\n",
    "\n",
    "t1 = Tree(h,h)\n",
    "t2 = Tree(h, t1)\n",
    "t3 = Tree(h, t2)"
   ]
  },
  {
   "cell_type": "code",
   "execution_count": 18,
   "metadata": {},
   "outputs": [
    {
     "name": "stdout",
     "output_type": "stream",
     "text": [
      "6\n",
      "6\n"
     ]
    }
   ],
   "source": [
    "print(num_aristas(k2))\n",
    "print(num_aristas(t3))"
   ]
  },
  {
   "cell_type": "markdown",
   "metadata": {},
   "source": [
    "**Ejercicio 6:**\n",
    "\n",
    "Defina las funciones `num_hojas`, `num_nodos` y `altura`. Evalúelas sobre los árboles del ejercicio 4.\n",
    "\n",
    "La respuesta debe ser:\n",
    "\n",
    "* `num_hojas(k2) = 4`\n",
    "* `num_nodos(k2) = 7`\n",
    "* `altura(k2) = 2`\n",
    "\n",
    "* `num_hojas(t3) = 4`\n",
    "* `num_nodos(t3) = 7`\n",
    "* `altura(t3) = 3`"
   ]
  },
  {
   "cell_type": "code",
   "execution_count": 19,
   "metadata": {},
   "outputs": [
    {
     "name": "stdout",
     "output_type": "stream",
     "text": [
      "4\n",
      "7\n",
      "2\n",
      "---------\n",
      "4\n",
      "7\n",
      "3\n"
     ]
    }
   ],
   "source": [
    "def num_hojas(A: Tree):\n",
    "    if A.left == None:\n",
    "        return 1\n",
    "    else:\n",
    "        return num_hojas(A.left) + num_hojas(A.right)\n",
    "\n",
    "def num_nodos(A: Tree):\n",
    "    if A.left == None:\n",
    "        return 1\n",
    "    else:\n",
    "        return 1 + num_nodos(A.left) + num_nodos(A.right)\n",
    "\n",
    "def altura(A: Tree):\n",
    "    if A.left == None:\n",
    "        return 0\n",
    "    else:\n",
    "        return 1 + max(altura(A.left), altura(A.right))\n",
    "\n",
    "print(num_hojas(k2))\n",
    "print(num_nodos(k2))\n",
    "print(altura(k2))\n",
    "print('---------')\n",
    "print(num_hojas(t3))\n",
    "print(num_nodos(t3))\n",
    "print(altura(t3))"
   ]
  }
 ],
 "metadata": {
  "kernelspec": {
   "display_name": "Python 3 (ipykernel)",
   "language": "python",
   "name": "python3"
  },
  "language_info": {
   "codemirror_mode": {
    "name": "ipython",
    "version": 3
   },
   "file_extension": ".py",
   "mimetype": "text/x-python",
   "name": "python",
   "nbconvert_exporter": "python",
   "pygments_lexer": "ipython3",
   "version": "3.12.3"
  }
 },
 "nbformat": 4,
 "nbformat_minor": 4
}
